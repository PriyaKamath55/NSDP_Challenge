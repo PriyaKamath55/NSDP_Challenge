{
 "cells": [
  {
   "cell_type": "code",
   "execution_count": 2,
   "id": "582e4dc6-ab71-46b7-8507-9d75d486f816",
   "metadata": {},
   "outputs": [
    {
     "name": "stdout",
     "output_type": "stream",
     "text": [
      "Data for DNK written to CSV\n",
      "Data for DEU written to CSV\n",
      "Data for BRA written to CSV\n",
      "Data for IND written to CSV\n",
      "Data for FRA written to CSV\n",
      "Data for EGY written to CSV\n",
      "Data for JPN written to CSV\n",
      "Data for CAN written to CSV\n",
      "Data for MEX written to CSV\n",
      "Data for ARG written to CSV\n",
      "Data has been saved to world_bank_country_data_v1.csv\n"
     ]
    }
   ],
   "source": [
    "# Overview of script:\n",
    "# In this notebook, I am retrieving the country and region for each ISO3 Code from nsdp_delays_random.xlsx by hitting the api \n",
    "# https://api.worldbank.org/v2/country/{ISO3_CODE}?format=json and storing it in a file named world_bank_country_data_v1 in a .csv format.\n",
    "# This script passes each ISO3 Code from the nsdp_delays_random.xlsx file through the variable {iso_code} to the end-point to fetch\n",
    "# the Country name and corresponding Region.\n",
    "\n",
    "import requests\n",
    "import pandas as pd\n",
    "import csv\n",
    "\n",
    "# Load the Excel file data from Sheet1\n",
    "excel_file = '/Users/Society/Downloads/NSDP_challenge/nsdp_delays_random.xlsx'\n",
    "# Load the data from 'Sheet1'\n",
    "df = pd.read_excel(excel_file, sheet_name='Sheet1')  \n",
    "\n",
    "# Get unique ISO3 codes and drop NaN values\n",
    "iso_codes = df['ISO3 Code'].dropna().unique()  \n",
    "\n",
    "# Create the CSV file and write the results\n",
    "csv_filename = 'world_bank_country_data_v1.csv'\n",
    "with open(csv_filename, mode='w', newline='', encoding='utf-8') as file:\n",
    "    writer = csv.writer(file)\n",
    "\n",
    "# Create the header row in the CSV file\n",
    "    writer.writerow(['ISO Code', 'Country Name', 'Region'])\n",
    "\n",
    "# Avoiding duplication by using set() to track ISO3 codes that are already processed\n",
    "    processed_iso_codes = set()\n",
    "\n",
    "# Loop through each ISO3 code and fetch data from the API\n",
    "    for iso_code in iso_codes:\n",
    "        \n",
    "        if iso_code in processed_iso_codes:\n",
    "            continue\n",
    "\n",
    "        url = f\"https://api.worldbank.org/v2/country/{iso_code}?format=json\"\n",
    "        response = requests.get(url)\n",
    "\n",
    "        if response.status_code == 200:\n",
    "            data = response.json()\n",
    "\n",
    "# Check if data exists and process it\n",
    "            if data and isinstance(data, list) and len(data) > 1:\n",
    "                country_data = data[1][0]  # Extract the country data from the response\n",
    "                \n",
    "                # Prepare a row to write to the CSV\n",
    "                row = [\n",
    "                    iso_code,  # ISO Code\n",
    "                    country_data.get('name', 'N/A'),  # Country Name\n",
    "                    country_data.get('region', {}).get('value', 'N/A'),  # Region\n",
    "                ]\n",
    "\n",
    "                # Write the row to the CSV file\n",
    "                writer.writerow(row)\n",
    "                processed_iso_codes.add(iso_code)  # Mark this ISO code as processed\n",
    "                print(f\"Data for {iso_code} written to CSV\")\n",
    "            else:\n",
    "                print(f\"No data found for {iso_code}\")\n",
    "        else:\n",
    "            print(f\"Error fetching data for {iso_code}: {response.status_code}\")\n",
    "\n",
    "print(f\"Data has been saved to {csv_filename}\")\n"
   ]
  },
  {
   "cell_type": "code",
   "execution_count": null,
   "id": "1fe2b9a2-a3ba-479b-8d48-54fed4602dc8",
   "metadata": {},
   "outputs": [],
   "source": []
  }
 ],
 "metadata": {
  "kernelspec": {
   "display_name": "Python 3 (ipykernel)",
   "language": "python",
   "name": "python3"
  },
  "language_info": {
   "codemirror_mode": {
    "name": "ipython",
    "version": 3
   },
   "file_extension": ".py",
   "mimetype": "text/x-python",
   "name": "python",
   "nbconvert_exporter": "python",
   "pygments_lexer": "ipython3",
   "version": "3.12.4"
  }
 },
 "nbformat": 4,
 "nbformat_minor": 5
}
