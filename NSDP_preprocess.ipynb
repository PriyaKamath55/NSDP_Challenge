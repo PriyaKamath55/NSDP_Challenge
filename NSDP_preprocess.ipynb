{
 "cells": [
  {
   "cell_type": "code",
   "execution_count": 1,
   "id": "c6533fc5-bb91-4e7a-9e70-d5764fdb7f77",
   "metadata": {},
   "outputs": [
    {
     "name": "stdout",
     "output_type": "stream",
     "text": [
      "  ISO3 Code  Year         Type  Delay (days)             Last Update\n",
      "0       DNK  2018   Timeliness            59 2023-10-07 14:23:38.662\n",
      "1       DEU  2015   Timeliness            35 2022-12-13 14:23:38.662\n",
      "2       BRA  2017   Timeliness             3 2022-08-02 14:23:38.662\n",
      "3       DEU  2018  Periodicity             4 2023-10-11 14:23:38.662\n",
      "4       DEU  2017  Periodicity            45 2024-05-03 14:23:38.662\n"
     ]
    }
   ],
   "source": [
    "# Overview:\n",
    "# This script preprocesses the data in nsdp_delays_random.xlsx getting it ready to be used for reporting and analytics in PowerBI\n",
    "\n",
    "# This snippet below reads the data from nsdp_delays_random.xlsx into a DataFrame df_nspd_delays\n",
    "import pandas as pd\n",
    "import warnings\n",
    "warnings.filterwarnings('ignore')\n",
    "\n",
    "# Define the file path\n",
    "file_path = \"/Users/Society/Downloads/NSDP_challenge/nsdp_delays_random.xlsx\"\n",
    "\n",
    "# Read the Excel file into a DataFrame\n",
    "df_nspd_delays = pd.read_excel(file_path, sheet_name=\"Sheet1\")\n",
    "\n",
    "# Display the first few rows of the DataFrame\n",
    "print(df_nspd_delays.head())\n"
   ]
  },
  {
   "cell_type": "code",
   "execution_count": 3,
   "id": "435efbed-cb44-4561-95c3-1db51f59187d",
   "metadata": {},
   "outputs": [
    {
     "name": "stdout",
     "output_type": "stream",
     "text": [
      "  ISO Code Country Name                      Region\n",
      "0      DNK      Denmark       Europe & Central Asia\n",
      "1      DEU      Germany       Europe & Central Asia\n",
      "2      BRA       Brazil  Latin America & Caribbean \n",
      "3      IND        India                  South Asia\n",
      "4      FRA       France       Europe & Central Asia\n"
     ]
    }
   ],
   "source": [
    "# This snippet below reads the data from world_bank_country_data_v1.csv into a DataFrame df_iso_to_country\n",
    "\n",
    "# Define the path to the CSV file\n",
    "csv_file_path = \"/Users/Society/Downloads/NSDP_challenge/world_bank_country_data_v1.csv\"\n",
    "\n",
    "# Load the CSV file into a DataFrame\n",
    "df_iso_to_country = pd.read_csv(csv_file_path)\n",
    "\n",
    "# Display the first few rows of the DataFrame to confirm successful loading\n",
    "print(df_iso_to_country.head())"
   ]
  },
  {
   "cell_type": "code",
   "execution_count": 5,
   "id": "e38609ae-e429-49c2-a58a-c9393da1ee43",
   "metadata": {},
   "outputs": [],
   "source": [
    "# This snippet below merges the two DataFrames (df_nspd_delays and df_iso_to_country) using Left Join to get\n",
    "# Country name and Region for each ISO3 code in nsdp_delays_random.xlsx \n",
    "merged_df = pd.merge(df_nspd_delays, df_iso_to_country, how='left', left_on='ISO3 Code', right_on='ISO Code')\n"
   ]
  },
  {
   "cell_type": "code",
   "execution_count": 7,
   "id": "ed78d670-e822-40aa-82f6-dbdcd709ec91",
   "metadata": {},
   "outputs": [
    {
     "name": "stdout",
     "output_type": "stream",
     "text": [
      "    ISO3 Code  Year         Type  Delay (days)             Last Update  \\\n",
      "0         DNK  2018   Timeliness            59 2023-10-07 14:23:38.662   \n",
      "1         DEU  2015   Timeliness            35 2022-12-13 14:23:38.662   \n",
      "2         BRA  2017   Timeliness             3 2022-08-02 14:23:38.662   \n",
      "3         DEU  2018  Periodicity             4 2023-10-11 14:23:38.662   \n",
      "4         DEU  2017  Periodicity            45 2024-05-03 14:23:38.662   \n",
      "..        ...   ...          ...           ...                     ...   \n",
      "495       IND  2021   Timeliness             6 2023-01-07 14:23:38.665   \n",
      "496       EGY  2016  Periodicity             3 2023-04-15 14:23:38.665   \n",
      "497       MEX  2017   Timeliness            16 2022-11-14 14:23:38.665   \n",
      "498       JPN  2019   Timeliness            32 2022-09-14 14:23:38.665   \n",
      "499       BRA  2015  Periodicity            56 2023-01-29 14:23:38.665   \n",
      "\n",
      "         Country Name                      Region  \n",
      "0             Denmark       Europe & Central Asia  \n",
      "1             Germany       Europe & Central Asia  \n",
      "2              Brazil  Latin America & Caribbean   \n",
      "3             Germany       Europe & Central Asia  \n",
      "4             Germany       Europe & Central Asia  \n",
      "..                ...                         ...  \n",
      "495             India                  South Asia  \n",
      "496  Egypt, Arab Rep.  Middle East & North Africa  \n",
      "497            Mexico  Latin America & Caribbean   \n",
      "498             Japan         East Asia & Pacific  \n",
      "499            Brazil  Latin America & Caribbean   \n",
      "\n",
      "[500 rows x 7 columns]\n"
     ]
    }
   ],
   "source": [
    "# This snippet below saves the merged_df DataFrame into merged_output.csv file\n",
    "merged_df = merged_df.drop(columns=['ISO Code'])\n",
    "\n",
    "# Save the resulting DataFrame to a CSV file\n",
    "merged_df.to_csv('merged_output.csv', index=False)\n",
    "\n",
    "# Preview the merged DataFrame\n",
    "print(merged_df)"
   ]
  },
  {
   "cell_type": "code",
   "execution_count": 9,
   "id": "c50b454b-7615-4c90-bd88-71eae54a0963",
   "metadata": {},
   "outputs": [],
   "source": [
    "# This snippet below filters the merged_df DataFrame\n",
    "# Only include rows where Type is Timeliness.\n",
    "# Exclude any records where Delay (days) is negative or missing\n",
    "\n",
    "filtered_df = merged_df[(merged_df['Type'] == 'Timeliness') & \n",
    "                        (merged_df['Delay (days)'] >= 0) & \n",
    "                        (merged_df['Delay (days)'].notna())]"
   ]
  },
  {
   "cell_type": "code",
   "execution_count": 11,
   "id": "325b0322-c799-4435-8eb2-f8b4504dd7d5",
   "metadata": {},
   "outputs": [
    {
     "name": "stdout",
     "output_type": "stream",
     "text": [
      "False\n",
      "False\n",
      "    ISO3 Code  Year        Type  Delay (days)             Last Update  \\\n",
      "0         DNK  2018  Timeliness            59 2023-10-07 14:23:38.662   \n",
      "1         DEU  2015  Timeliness            35 2022-12-13 14:23:38.662   \n",
      "2         BRA  2017  Timeliness             3 2022-08-02 14:23:38.662   \n",
      "5         IND  2016  Timeliness            39 2022-11-09 14:23:38.662   \n",
      "7         DNK  2023  Timeliness            52 2024-07-28 14:23:38.662   \n",
      "..        ...   ...         ...           ...                     ...   \n",
      "485       FRA  2017  Timeliness             7 2024-07-21 14:23:38.665   \n",
      "487       JPN  2016  Timeliness            55 2023-11-23 14:23:38.665   \n",
      "495       IND  2021  Timeliness             6 2023-01-07 14:23:38.665   \n",
      "497       MEX  2017  Timeliness            16 2022-11-14 14:23:38.665   \n",
      "498       JPN  2019  Timeliness            32 2022-09-14 14:23:38.665   \n",
      "\n",
      "    Country Name                      Region  \n",
      "0        Denmark       Europe & Central Asia  \n",
      "1        Germany       Europe & Central Asia  \n",
      "2         Brazil  Latin America & Caribbean   \n",
      "5          India                  South Asia  \n",
      "7        Denmark       Europe & Central Asia  \n",
      "..           ...                         ...  \n",
      "485       France       Europe & Central Asia  \n",
      "487        Japan         East Asia & Pacific  \n",
      "495        India                  South Asia  \n",
      "497       Mexico  Latin America & Caribbean   \n",
      "498        Japan         East Asia & Pacific  \n",
      "\n",
      "[172 rows x 7 columns]\n"
     ]
    }
   ],
   "source": [
    "# Validating the filter results\n",
    "has_timeliness = any(filtered_df['Type'] == 'Periodicity')\n",
    "negative_or_missing_delay = any((filtered_df['Delay (days)'] < 0) | filtered_df['Delay (days)'].isna())\n",
    "\n",
    "print(has_timeliness)\n",
    "print(negative_or_missing_delay)\n",
    "\n",
    "filtered_df.to_csv('filtered_output_file_v1.csv', index=False)\n",
    "print(filtered_df)"
   ]
  },
  {
   "cell_type": "code",
   "execution_count": 13,
   "id": "a2df210d-d620-4adf-8e27-4cec1dc70a18",
   "metadata": {},
   "outputs": [],
   "source": [
    "# Calculate the average delay per year for each country.\n",
    "#avg_delay_per_country = filtered_df.groupby(['ISO3 Code', 'Year'])['Delay (days)'].mean().reset_index() -- Without rounding\n",
    "\n",
    "avg_delay_per_country = (\n",
    "    filtered_df.groupby(['ISO3 Code', 'Year'])['Delay (days)']\n",
    "    .mean()\n",
    "    .round(2)\n",
    "    .reset_index()\n",
    ")\n",
    "avg_delay_per_country.head(20)\n",
    "# Write the results to a CSV file\n",
    "avg_delay_per_country.to_csv('Average_Delay_By_Country.csv', index=False)\n"
   ]
  },
  {
   "cell_type": "code",
   "execution_count": 15,
   "id": "c0b473eb-de74-42ea-a36a-d0ea3eb41108",
   "metadata": {},
   "outputs": [
    {
     "data": {
      "text/html": [
       "<div>\n",
       "<style scoped>\n",
       "    .dataframe tbody tr th:only-of-type {\n",
       "        vertical-align: middle;\n",
       "    }\n",
       "\n",
       "    .dataframe tbody tr th {\n",
       "        vertical-align: top;\n",
       "    }\n",
       "\n",
       "    .dataframe thead th {\n",
       "        text-align: right;\n",
       "    }\n",
       "</style>\n",
       "<table border=\"1\" class=\"dataframe\">\n",
       "  <thead>\n",
       "    <tr style=\"text-align: right;\">\n",
       "      <th></th>\n",
       "      <th>ISO3 Code</th>\n",
       "      <th>Delay (days)</th>\n",
       "    </tr>\n",
       "  </thead>\n",
       "  <tbody>\n",
       "    <tr>\n",
       "      <th>0</th>\n",
       "      <td>ARG</td>\n",
       "      <td>32.481111</td>\n",
       "    </tr>\n",
       "    <tr>\n",
       "      <th>1</th>\n",
       "      <td>BRA</td>\n",
       "      <td>28.852222</td>\n",
       "    </tr>\n",
       "    <tr>\n",
       "      <th>2</th>\n",
       "      <td>CAN</td>\n",
       "      <td>30.805000</td>\n",
       "    </tr>\n",
       "    <tr>\n",
       "      <th>3</th>\n",
       "      <td>DEU</td>\n",
       "      <td>31.250000</td>\n",
       "    </tr>\n",
       "    <tr>\n",
       "      <th>4</th>\n",
       "      <td>DNK</td>\n",
       "      <td>32.155714</td>\n",
       "    </tr>\n",
       "    <tr>\n",
       "      <th>5</th>\n",
       "      <td>EGY</td>\n",
       "      <td>37.518889</td>\n",
       "    </tr>\n",
       "    <tr>\n",
       "      <th>6</th>\n",
       "      <td>FRA</td>\n",
       "      <td>29.352222</td>\n",
       "    </tr>\n",
       "    <tr>\n",
       "      <th>7</th>\n",
       "      <td>IND</td>\n",
       "      <td>33.202857</td>\n",
       "    </tr>\n",
       "    <tr>\n",
       "      <th>8</th>\n",
       "      <td>JPN</td>\n",
       "      <td>39.606250</td>\n",
       "    </tr>\n",
       "    <tr>\n",
       "      <th>9</th>\n",
       "      <td>MEX</td>\n",
       "      <td>32.404286</td>\n",
       "    </tr>\n",
       "  </tbody>\n",
       "</table>\n",
       "</div>"
      ],
      "text/plain": [
       "  ISO3 Code  Delay (days)\n",
       "0       ARG     32.481111\n",
       "1       BRA     28.852222\n",
       "2       CAN     30.805000\n",
       "3       DEU     31.250000\n",
       "4       DNK     32.155714\n",
       "5       EGY     37.518889\n",
       "6       FRA     29.352222\n",
       "7       IND     33.202857\n",
       "8       JPN     39.606250\n",
       "9       MEX     32.404286"
      ]
     },
     "execution_count": 15,
     "metadata": {},
     "output_type": "execute_result"
    }
   ],
   "source": [
    "# Calculate the average delay across all years for each country\n",
    "avg_delay_overall = avg_delay_per_country.groupby('ISO3 Code')['Delay (days)'].mean().reset_index()\n",
    "avg_delay_overall.head(20)"
   ]
  },
  {
   "cell_type": "code",
   "execution_count": 17,
   "id": "55f420f5-ecec-431a-a1b1-40ed92b023e4",
   "metadata": {},
   "outputs": [
    {
     "data": {
      "text/html": [
       "<div>\n",
       "<style scoped>\n",
       "    .dataframe tbody tr th:only-of-type {\n",
       "        vertical-align: middle;\n",
       "    }\n",
       "\n",
       "    .dataframe tbody tr th {\n",
       "        vertical-align: top;\n",
       "    }\n",
       "\n",
       "    .dataframe thead th {\n",
       "        text-align: right;\n",
       "    }\n",
       "</style>\n",
       "<table border=\"1\" class=\"dataframe\">\n",
       "  <thead>\n",
       "    <tr style=\"text-align: right;\">\n",
       "      <th></th>\n",
       "      <th>ISO3 Code</th>\n",
       "      <th>Delay (days)</th>\n",
       "    </tr>\n",
       "  </thead>\n",
       "  <tbody>\n",
       "    <tr>\n",
       "      <th>8</th>\n",
       "      <td>JPN</td>\n",
       "      <td>39.606250</td>\n",
       "    </tr>\n",
       "    <tr>\n",
       "      <th>5</th>\n",
       "      <td>EGY</td>\n",
       "      <td>37.518889</td>\n",
       "    </tr>\n",
       "    <tr>\n",
       "      <th>7</th>\n",
       "      <td>IND</td>\n",
       "      <td>33.202857</td>\n",
       "    </tr>\n",
       "    <tr>\n",
       "      <th>0</th>\n",
       "      <td>ARG</td>\n",
       "      <td>32.481111</td>\n",
       "    </tr>\n",
       "    <tr>\n",
       "      <th>9</th>\n",
       "      <td>MEX</td>\n",
       "      <td>32.404286</td>\n",
       "    </tr>\n",
       "  </tbody>\n",
       "</table>\n",
       "</div>"
      ],
      "text/plain": [
       "  ISO3 Code  Delay (days)\n",
       "8       JPN     39.606250\n",
       "5       EGY     37.518889\n",
       "7       IND     33.202857\n",
       "0       ARG     32.481111\n",
       "9       MEX     32.404286"
      ]
     },
     "execution_count": 17,
     "metadata": {},
     "output_type": "execute_result"
    }
   ],
   "source": [
    "# Sort to find the top 5 countries with the highest average delay\n",
    "top_5_countries = avg_delay_overall.sort_values(by='Delay (days)', ascending=False).head(5)\n",
    "top_5_countries.head(5)"
   ]
  },
  {
   "cell_type": "code",
   "execution_count": 19,
   "id": "5ae94fb9-6ad2-4ff9-a720-f35dccc4da78",
   "metadata": {},
   "outputs": [],
   "source": [
    "# Compute the average delay by region for each year.\n",
    "avg_delay_by_region_year = filtered_df.groupby(['Region', 'Year'])['Delay (days)'].mean().round(2).reset_index()\n",
    "avg_delay_by_region_year.head(5)\n",
    "# Write the results to CSV file\n",
    "avg_delay_by_region_year.to_csv('Regional_Averages.csv', index=False)"
   ]
  },
  {
   "cell_type": "code",
   "execution_count": 21,
   "id": "d3449a98-1f15-4a71-afb5-844504df7142",
   "metadata": {
    "scrolled": true
   },
   "outputs": [
    {
     "data": {
      "text/html": [
       "<div>\n",
       "<style scoped>\n",
       "    .dataframe tbody tr th:only-of-type {\n",
       "        vertical-align: middle;\n",
       "    }\n",
       "\n",
       "    .dataframe tbody tr th {\n",
       "        vertical-align: top;\n",
       "    }\n",
       "\n",
       "    .dataframe thead th {\n",
       "        text-align: right;\n",
       "    }\n",
       "</style>\n",
       "<table border=\"1\" class=\"dataframe\">\n",
       "  <thead>\n",
       "    <tr style=\"text-align: right;\">\n",
       "      <th></th>\n",
       "      <th>Region</th>\n",
       "      <th>Delay (days)</th>\n",
       "    </tr>\n",
       "  </thead>\n",
       "  <tbody>\n",
       "    <tr>\n",
       "      <th>0</th>\n",
       "      <td>East Asia &amp; Pacific</td>\n",
       "      <td>39.61</td>\n",
       "    </tr>\n",
       "    <tr>\n",
       "      <th>1</th>\n",
       "      <td>Europe &amp; Central Asia</td>\n",
       "      <td>33.38</td>\n",
       "    </tr>\n",
       "    <tr>\n",
       "      <th>2</th>\n",
       "      <td>Latin America &amp; Caribbean</td>\n",
       "      <td>30.16</td>\n",
       "    </tr>\n",
       "    <tr>\n",
       "      <th>3</th>\n",
       "      <td>Middle East &amp; North Africa</td>\n",
       "      <td>37.52</td>\n",
       "    </tr>\n",
       "    <tr>\n",
       "      <th>4</th>\n",
       "      <td>North America</td>\n",
       "      <td>30.80</td>\n",
       "    </tr>\n",
       "  </tbody>\n",
       "</table>\n",
       "</div>"
      ],
      "text/plain": [
       "                       Region  Delay (days)\n",
       "0         East Asia & Pacific         39.61\n",
       "1       Europe & Central Asia         33.38\n",
       "2  Latin America & Caribbean          30.16\n",
       "3  Middle East & North Africa         37.52\n",
       "4               North America         30.80"
      ]
     },
     "execution_count": 21,
     "metadata": {},
     "output_type": "execute_result"
    }
   ],
   "source": [
    "# Calculate the average delay by region across all years to identify the improvement\n",
    "avg_delay_by_region = avg_delay_by_region_year.groupby('Region')['Delay (days)'].mean().round(2).reset_index()\n",
    "avg_delay_by_region.head(5)"
   ]
  },
  {
   "cell_type": "code",
   "execution_count": 23,
   "id": "2764d537-619f-4295-b119-323027d645ae",
   "metadata": {},
   "outputs": [
    {
     "data": {
      "text/html": [
       "<div>\n",
       "<style scoped>\n",
       "    .dataframe tbody tr th:only-of-type {\n",
       "        vertical-align: middle;\n",
       "    }\n",
       "\n",
       "    .dataframe tbody tr th {\n",
       "        vertical-align: top;\n",
       "    }\n",
       "\n",
       "    .dataframe thead th {\n",
       "        text-align: right;\n",
       "    }\n",
       "</style>\n",
       "<table border=\"1\" class=\"dataframe\">\n",
       "  <thead>\n",
       "    <tr style=\"text-align: right;\">\n",
       "      <th></th>\n",
       "      <th>Region</th>\n",
       "      <th>Improvement</th>\n",
       "    </tr>\n",
       "  </thead>\n",
       "  <tbody>\n",
       "    <tr>\n",
       "      <th>0</th>\n",
       "      <td>East Asia &amp; Pacific</td>\n",
       "      <td>-2.40</td>\n",
       "    </tr>\n",
       "    <tr>\n",
       "      <th>1</th>\n",
       "      <td>Europe &amp; Central Asia</td>\n",
       "      <td>13.65</td>\n",
       "    </tr>\n",
       "    <tr>\n",
       "      <th>2</th>\n",
       "      <td>Latin America &amp; Caribbean</td>\n",
       "      <td>-10.05</td>\n",
       "    </tr>\n",
       "    <tr>\n",
       "      <th>3</th>\n",
       "      <td>Middle East &amp; North Africa</td>\n",
       "      <td>-17.33</td>\n",
       "    </tr>\n",
       "    <tr>\n",
       "      <th>4</th>\n",
       "      <td>North America</td>\n",
       "      <td>-1.00</td>\n",
       "    </tr>\n",
       "    <tr>\n",
       "      <th>5</th>\n",
       "      <td>South Asia</td>\n",
       "      <td>16.00</td>\n",
       "    </tr>\n",
       "  </tbody>\n",
       "</table>\n",
       "</div>"
      ],
      "text/plain": [
       "                       Region  Improvement\n",
       "0         East Asia & Pacific        -2.40\n",
       "1       Europe & Central Asia        13.65\n",
       "2  Latin America & Caribbean        -10.05\n",
       "3  Middle East & North Africa       -17.33\n",
       "4               North America        -1.00\n",
       "5                  South Asia        16.00"
      ]
     },
     "execution_count": 23,
     "metadata": {},
     "output_type": "execute_result"
    }
   ],
   "source": [
    "# Identify the region with the most improvement: the largest decrease in average delay\n",
    "# We can compare the first (baseline) and last year for each region to calculate the improvement\n",
    "# This identifies baseline as the 1st year the data was recorded for each region\n",
    "# Lambda function is used to calculate the imrpovement\n",
    "region_improvement = avg_delay_by_region_year.groupby('Region').apply(lambda x: x['Delay (days)'].iloc[-1] - x['Delay (days)'].iloc[0]).reset_index(name='Improvement')\n",
    "region_improvement"
   ]
  },
  {
   "cell_type": "code",
   "execution_count": 25,
   "id": "aa02aa2e-9acd-463a-9c2c-6bdd3eff010f",
   "metadata": {},
   "outputs": [
    {
     "data": {
      "text/plain": [
       "Region         Middle East & North Africa\n",
       "Improvement                        -17.33\n",
       "Name: 3, dtype: object"
      ]
     },
     "execution_count": 25,
     "metadata": {},
     "output_type": "execute_result"
    }
   ],
   "source": [
    "# Sort the regions by the improvement and get the region with the most improvement\n",
    "most_improved_region = region_improvement.sort_values(by='Improvement', ascending=True).iloc[0]\n",
    "most_improved_region.head()"
   ]
  },
  {
   "cell_type": "code",
   "execution_count": 29,
   "id": "08f40588-645e-4423-9f6d-2a535f202380",
   "metadata": {},
   "outputs": [
    {
     "name": "stdout",
     "output_type": "stream",
     "text": [
      "Outliers Based on Z-score Method:\n",
      "Empty DataFrame\n",
      "Columns: [ISO3 Code, Delay (days), Z-score]\n",
      "Index: []\n"
     ]
    }
   ],
   "source": [
    "# Identify any countries with delays that are statistical outliers\n",
    "# Here I am using Z-score method to find the outliers in the data\n",
    "# To get the Z-score, mean and standard deviation are calculated\n",
    "mean_delay = filtered_df['Delay (days)'].mean()\n",
    "std_delay = filtered_df['Delay (days)'].std()\n",
    "# The Z-score is calculated using the formula below and a new column (Z-score) is added to the filtered_df DataFrame\n",
    "filtered_df['Z-score'] = (filtered_df['Delay (days)'] - mean_delay) / std_delay\n",
    "\n",
    "# Outliers based on Z-score (> 3 or < -3)\n",
    "# I tried to identify outliers using a threshold of +/- 3\n",
    "z_score_outliers = filtered_df[filtered_df['Z-score'].abs() > 3]\n",
    "\n",
    "print(\"Outliers Based on Z-score Method:\")\n",
    "print(z_score_outliers[['ISO3 Code', 'Delay (days)', 'Z-score']])\n",
    "# Using a threshold of +/- 3 did not yield any outliers. The calculation produced a DataFrame with no records."
   ]
  },
  {
   "cell_type": "code",
   "execution_count": 31,
   "id": "d05f2d22-56a2-4018-b5ba-8fdd644aff55",
   "metadata": {},
   "outputs": [
    {
     "name": "stdout",
     "output_type": "stream",
     "text": [
      "count    172.000000\n",
      "mean      32.133721\n",
      "std       17.526575\n",
      "min        0.000000\n",
      "25%       19.000000\n",
      "50%       32.000000\n",
      "75%       48.000000\n",
      "max       60.000000\n",
      "Name: Delay (days), dtype: float64\n"
     ]
    }
   ],
   "source": [
    "# debugging\n",
    "print(filtered_df['Delay (days)'].describe())"
   ]
  },
  {
   "cell_type": "code",
   "execution_count": 33,
   "id": "5ab4eee5-16e5-4276-a9ea-17afe9a8e687",
   "metadata": {},
   "outputs": [
    {
     "data": {
      "image/png": "[encoded data removed]",
      "text/plain": [
       "<Figure size 640x480 with 1 Axes>"
      ]
     },
     "metadata": {},
     "output_type": "display_data"
    }
   ],
   "source": [
    "#debuging and analyzing to review data distribution\n",
    "import matplotlib.pyplot as plt\n",
    "\n",
    "plt.hist(filtered_df['Delay (days)'], bins=10, edgecolor='black')\n",
    "plt.title('Distribution of Delay (days)')\n",
    "plt.xlabel('Delay (days)')\n",
    "plt.ylabel('Frequency')\n",
    "plt.show()"
   ]
  },
  {
   "cell_type": "code",
   "execution_count": 35,
   "id": "0649e2d8-99e6-41c7-a0f1-219c0fd9f3d8",
   "metadata": {},
   "outputs": [
    {
     "name": "stdout",
     "output_type": "stream",
     "text": [
      "    ISO3 Code  Delay (days)   Z-score\n",
      "293       ARG             0 -1.833428\n",
      "390       MEX             0 -1.833428\n"
     ]
    }
   ],
   "source": [
    "# Adjusting the Z-score threshold to 1.8\n",
    "z_score_outliers = filtered_df[filtered_df['Z-score'].abs() > 1.8]\n",
    "print(z_score_outliers[['ISO3 Code', 'Delay (days)', 'Z-score']])\n"
   ]
  },
  {
   "cell_type": "code",
   "execution_count": 43,
   "id": "8455cd63-e6fd-4e66-8419-75ca51ad84ee",
   "metadata": {},
   "outputs": [],
   "source": [
    "# Writing the results to a CSV file\n",
    "z_score_outliers.to_csv('Outliers.csv', columns=['ISO3 Code','Country Name', 'Delay (days)', 'Region'], index=False)"
   ]
  },
  {
   "cell_type": "code",
   "execution_count": null,
   "id": "ee00a55c-627c-46d5-b786-24b69e664931",
   "metadata": {},
   "outputs": [],
   "source": []
  },
  {
   "cell_type": "code",
   "execution_count": null,
   "id": "e4fd1e22-5a4f-4d36-8c49-53162c18dc11",
   "metadata": {},
   "outputs": [],
   "source": []
  }
 ],
 "metadata": {
  "kernelspec": {
   "display_name": "Python 3 (ipykernel)",
   "language": "python",
   "name": "python3"
  },
  "language_info": {
   "codemirror_mode": {
    "name": "ipython",
    "version": 3
   },
   "file_extension": ".py",
   "mimetype": "text/x-python",
   "name": "python",
   "nbconvert_exporter": "python",
   "pygments_lexer": "ipython3",
   "version": "3.12.4"
  }
 },
 "nbformat": 4,
 "nbformat_minor": 5
}
